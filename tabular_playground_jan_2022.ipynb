{
 "cells": [
  {
   "cell_type": "code",
   "execution_count": 111,
   "metadata": {},
   "outputs": [],
   "source": [
    "import pandas as pd\n",
    "import numpy as np\n",
    "import matplotlib.pyplot as plt\n",
    "import seaborn\n",
    "from datetime import datetime\n",
    "from sklearn.model_selection import train_test_split\n",
    "from sklearn.metrics import make_scorer\n",
    "import holidays\n",
    "from sklearn.metrics import make_scorer\n",
    "from sklearn.model_selection import GridSearchCV\n",
    "from sklearn.model_selection import RandomizedSearchCV"
   ]
  },
  {
   "cell_type": "code",
   "execution_count": 112,
   "metadata": {},
   "outputs": [],
   "source": [
    "train = pd.read_csv('train.csv')\n",
    "test = pd.read_csv('test.csv')\n",
    "gdp = pd.read_csv('gdp.csv')"
   ]
  },
  {
   "cell_type": "code",
   "execution_count": 113,
   "metadata": {},
   "outputs": [],
   "source": [
    "train_day = []\n",
    "test_day = []\n",
    "for i in range(len(train)):\n",
    "    x = pd.to_datetime(train['date'][i])\n",
    "    train_day.append(x.weekday())\n",
    "    \n",
    "train['weekday'] = train_day\n",
    "\n",
    "for j in range(len(test)):\n",
    "    y = pd.to_datetime(test['date'][j])\n",
    "    test_day.append(y.weekday())\n",
    "    \n",
    "test['weekday'] = test_day"
   ]
  },
  {
   "cell_type": "code",
   "execution_count": 114,
   "metadata": {},
   "outputs": [],
   "source": [
    "finland_holidays = holidays.FI()\n",
    "norway_holidays = holidays.NO()\n",
    "sweden_holidays = holidays.SE()\n",
    "train_holiday = []\n",
    "test_holiday = []\n",
    "for i in range(len(train)):\n",
    "    x = pd.to_datetime(train['date'][i])\n",
    "    if (x in finland_holidays) or (x in norway_holidays) or (x in sweden_holidays):\n",
    "        train_holiday.append(1)\n",
    "    else:\n",
    "        train_holiday.append(0)\n",
    "\n",
    "train['holiday'] = train_holiday\n",
    "\n",
    "for j in range(len(test)):\n",
    "    y = pd.to_datetime(test['date'][j])\n",
    "    if (y in finland_holidays) or (y in norway_holidays) or (y in sweden_holidays):\n",
    "        test_holiday.append(1)\n",
    "    else:\n",
    "        test_holiday.append(0)\n",
    "\n",
    "test['holiday'] = test_holiday"
   ]
  },
  {
   "cell_type": "code",
   "execution_count": 115,
   "metadata": {},
   "outputs": [],
   "source": [
    "train = train.set_index('row_id')\n",
    "test = test.set_index('row_id')"
   ]
  },
  {
   "cell_type": "code",
   "execution_count": 116,
   "metadata": {},
   "outputs": [],
   "source": [
    "y_train = train['num_sold']\n",
    "train = train.drop('num_sold',axis=1)"
   ]
  },
  {
   "cell_type": "code",
   "execution_count": 117,
   "metadata": {},
   "outputs": [
    {
     "data": {
      "text/html": [
       "<div>\n",
       "<style scoped>\n",
       "    .dataframe tbody tr th:only-of-type {\n",
       "        vertical-align: middle;\n",
       "    }\n",
       "\n",
       "    .dataframe tbody tr th {\n",
       "        vertical-align: top;\n",
       "    }\n",
       "\n",
       "    .dataframe thead th {\n",
       "        text-align: right;\n",
       "    }\n",
       "</style>\n",
       "<table border=\"1\" class=\"dataframe\">\n",
       "  <thead>\n",
       "    <tr style=\"text-align: right;\">\n",
       "      <th></th>\n",
       "      <th>date</th>\n",
       "      <th>country</th>\n",
       "      <th>store</th>\n",
       "      <th>product</th>\n",
       "      <th>weekday</th>\n",
       "      <th>holiday</th>\n",
       "    </tr>\n",
       "    <tr>\n",
       "      <th>row_id</th>\n",
       "      <th></th>\n",
       "      <th></th>\n",
       "      <th></th>\n",
       "      <th></th>\n",
       "      <th></th>\n",
       "      <th></th>\n",
       "    </tr>\n",
       "  </thead>\n",
       "  <tbody>\n",
       "    <tr>\n",
       "      <th>0</th>\n",
       "      <td>2015-01-01</td>\n",
       "      <td>Finland</td>\n",
       "      <td>KaggleMart</td>\n",
       "      <td>Kaggle Mug</td>\n",
       "      <td>3</td>\n",
       "      <td>1</td>\n",
       "    </tr>\n",
       "    <tr>\n",
       "      <th>1</th>\n",
       "      <td>2015-01-01</td>\n",
       "      <td>Finland</td>\n",
       "      <td>KaggleMart</td>\n",
       "      <td>Kaggle Hat</td>\n",
       "      <td>3</td>\n",
       "      <td>1</td>\n",
       "    </tr>\n",
       "    <tr>\n",
       "      <th>2</th>\n",
       "      <td>2015-01-01</td>\n",
       "      <td>Finland</td>\n",
       "      <td>KaggleMart</td>\n",
       "      <td>Kaggle Sticker</td>\n",
       "      <td>3</td>\n",
       "      <td>1</td>\n",
       "    </tr>\n",
       "    <tr>\n",
       "      <th>3</th>\n",
       "      <td>2015-01-01</td>\n",
       "      <td>Finland</td>\n",
       "      <td>KaggleRama</td>\n",
       "      <td>Kaggle Mug</td>\n",
       "      <td>3</td>\n",
       "      <td>1</td>\n",
       "    </tr>\n",
       "    <tr>\n",
       "      <th>4</th>\n",
       "      <td>2015-01-01</td>\n",
       "      <td>Finland</td>\n",
       "      <td>KaggleRama</td>\n",
       "      <td>Kaggle Hat</td>\n",
       "      <td>3</td>\n",
       "      <td>1</td>\n",
       "    </tr>\n",
       "  </tbody>\n",
       "</table>\n",
       "</div>"
      ],
      "text/plain": [
       "              date  country       store         product  weekday  holiday\n",
       "row_id                                                                   \n",
       "0       2015-01-01  Finland  KaggleMart      Kaggle Mug        3        1\n",
       "1       2015-01-01  Finland  KaggleMart      Kaggle Hat        3        1\n",
       "2       2015-01-01  Finland  KaggleMart  Kaggle Sticker        3        1\n",
       "3       2015-01-01  Finland  KaggleRama      Kaggle Mug        3        1\n",
       "4       2015-01-01  Finland  KaggleRama      Kaggle Hat        3        1"
      ]
     },
     "execution_count": 117,
     "metadata": {},
     "output_type": "execute_result"
    }
   ],
   "source": [
    "train.head()"
   ]
  },
  {
   "cell_type": "code",
   "execution_count": 118,
   "metadata": {},
   "outputs": [
    {
     "data": {
      "text/html": [
       "<div>\n",
       "<style scoped>\n",
       "    .dataframe tbody tr th:only-of-type {\n",
       "        vertical-align: middle;\n",
       "    }\n",
       "\n",
       "    .dataframe tbody tr th {\n",
       "        vertical-align: top;\n",
       "    }\n",
       "\n",
       "    .dataframe thead th {\n",
       "        text-align: right;\n",
       "    }\n",
       "</style>\n",
       "<table border=\"1\" class=\"dataframe\">\n",
       "  <thead>\n",
       "    <tr style=\"text-align: right;\">\n",
       "      <th></th>\n",
       "      <th>year</th>\n",
       "      <th>GDP_Finland</th>\n",
       "      <th>GDP_Norway</th>\n",
       "      <th>GDP_Sweden</th>\n",
       "    </tr>\n",
       "  </thead>\n",
       "  <tbody>\n",
       "    <tr>\n",
       "      <th>0</th>\n",
       "      <td>2015</td>\n",
       "      <td>234.440</td>\n",
       "      <td>385.802</td>\n",
       "      <td>505.104</td>\n",
       "    </tr>\n",
       "    <tr>\n",
       "      <th>1</th>\n",
       "      <td>2016</td>\n",
       "      <td>240.608</td>\n",
       "      <td>368.827</td>\n",
       "      <td>515.655</td>\n",
       "    </tr>\n",
       "    <tr>\n",
       "      <th>2</th>\n",
       "      <td>2017</td>\n",
       "      <td>255.017</td>\n",
       "      <td>398.394</td>\n",
       "      <td>541.019</td>\n",
       "    </tr>\n",
       "    <tr>\n",
       "      <th>3</th>\n",
       "      <td>2018</td>\n",
       "      <td>275.580</td>\n",
       "      <td>437.000</td>\n",
       "      <td>555.455</td>\n",
       "    </tr>\n",
       "    <tr>\n",
       "      <th>4</th>\n",
       "      <td>2019</td>\n",
       "      <td>268.782</td>\n",
       "      <td>405.510</td>\n",
       "      <td>533.880</td>\n",
       "    </tr>\n",
       "  </tbody>\n",
       "</table>\n",
       "</div>"
      ],
      "text/plain": [
       "   year  GDP_Finland  GDP_Norway  GDP_Sweden\n",
       "0  2015      234.440     385.802     505.104\n",
       "1  2016      240.608     368.827     515.655\n",
       "2  2017      255.017     398.394     541.019\n",
       "3  2018      275.580     437.000     555.455\n",
       "4  2019      268.782     405.510     533.880"
      ]
     },
     "execution_count": 118,
     "metadata": {},
     "output_type": "execute_result"
    }
   ],
   "source": [
    "gdp"
   ]
  },
  {
   "cell_type": "code",
   "execution_count": 119,
   "metadata": {},
   "outputs": [
    {
     "data": {
      "text/plain": [
       "Norway     8766\n",
       "Sweden     8766\n",
       "Finland    8766\n",
       "Name: country, dtype: int64"
      ]
     },
     "execution_count": 119,
     "metadata": {},
     "output_type": "execute_result"
    }
   ],
   "source": [
    "train['country'].value_counts()"
   ]
  },
  {
   "cell_type": "code",
   "execution_count": 120,
   "metadata": {},
   "outputs": [
    {
     "data": {
      "text/plain": [
       "KaggleMart    13149\n",
       "KaggleRama    13149\n",
       "Name: store, dtype: int64"
      ]
     },
     "execution_count": 120,
     "metadata": {},
     "output_type": "execute_result"
    }
   ],
   "source": [
    "train['store'].value_counts()"
   ]
  },
  {
   "cell_type": "code",
   "execution_count": 121,
   "metadata": {},
   "outputs": [
    {
     "data": {
      "text/plain": [
       "Kaggle Hat        8766\n",
       "Kaggle Sticker    8766\n",
       "Kaggle Mug        8766\n",
       "Name: product, dtype: int64"
      ]
     },
     "execution_count": 121,
     "metadata": {},
     "output_type": "execute_result"
    }
   ],
   "source": [
    "train['product'].value_counts()"
   ]
  },
  {
   "cell_type": "code",
   "execution_count": 122,
   "metadata": {},
   "outputs": [],
   "source": [
    "date = np.array(train['date'])\n",
    "test_date = np.array(test['date'])\n",
    "\n",
    "year_test,month_test,day_test = [],[],[]\n",
    "year,month,day = [],[],[]\n",
    "\n",
    "for i in range(len(date)):\n",
    "    lst = date[i].split('-')\n",
    "    year.append(int(lst[0]))\n",
    "    month.append(int(lst[1]))\n",
    "    day.append(int(lst[2]))  \n",
    "    \n",
    "for i in range(len(test_date)):\n",
    "    lst = test_date[i].split('-')\n",
    "    year_test.append(int(lst[0]))\n",
    "    month_test.append(int(lst[1]))\n",
    "    day_test.append(int(lst[2]))"
   ]
  },
  {
   "cell_type": "code",
   "execution_count": 123,
   "metadata": {},
   "outputs": [],
   "source": [
    "train = train.drop('date',axis=1)\n",
    "test = test.drop('date',axis=1)\n",
    "\n",
    "train['year'] = year\n",
    "train['month'] = month\n",
    "train['day'] = day\n",
    "\n",
    "test['year'] = year_test\n",
    "test['month'] = month_test\n",
    "test['day'] = day_test"
   ]
  },
  {
   "cell_type": "code",
   "execution_count": 124,
   "metadata": {},
   "outputs": [],
   "source": [
    "train = pd.get_dummies(train)\n",
    "test = pd.get_dummies(test)"
   ]
  },
  {
   "cell_type": "code",
   "execution_count": 125,
   "metadata": {},
   "outputs": [],
   "source": [
    "gdp_train = []\n",
    "for i in range(len(train)):\n",
    "    if train['year'][i] == 2015:\n",
    "        if train['country_Finland'][i] == 1:\n",
    "            gdp_train.append(gdp['GDP_Finland'].iloc[0])\n",
    "        if train['country_Norway'][i] == 1:\n",
    "            gdp_train.append(gdp['GDP_Norway'].iloc[0])\n",
    "        if train['country_Sweden'][i] == 1:\n",
    "            gdp_train.append(gdp['GDP_Sweden'].iloc[0])\n",
    "            \n",
    "    if train['year'][i] == 2016:\n",
    "        if train['country_Finland'][i] == 1:\n",
    "            gdp_train.append(gdp['GDP_Finland'].iloc[1])\n",
    "        if train['country_Norway'][i] == 1:\n",
    "            gdp_train.append(gdp['GDP_Norway'].iloc[1])\n",
    "        if train['country_Sweden'][i] == 1:\n",
    "            gdp_train.append(gdp['GDP_Sweden'].iloc[1])\n",
    "            \n",
    "    if train['year'][i] == 2017:\n",
    "        if train['country_Finland'][i] == 1:\n",
    "            gdp_train.append(gdp['GDP_Finland'].iloc[2])\n",
    "        if train['country_Norway'][i] == 1:\n",
    "            gdp_train.append(gdp['GDP_Norway'].iloc[2])\n",
    "        if train['country_Sweden'][i] == 1:\n",
    "            gdp_train.append(gdp['GDP_Sweden'].iloc[2])\n",
    "            \n",
    "    if train['year'][i] == 2018:\n",
    "        if train['country_Finland'][i] == 1:\n",
    "            gdp_train.append(gdp['GDP_Finland'].iloc[3])\n",
    "        if train['country_Norway'][i] == 1:\n",
    "            gdp_train.append(gdp['GDP_Norway'].iloc[3])\n",
    "        if train['country_Sweden'][i] == 1:\n",
    "            gdp_train.append(gdp['GDP_Sweden'].iloc[3])\n",
    "            \n",
    "    if train['year'][i] == 2019:\n",
    "        if train['country_Finland'][i] == 1:\n",
    "            gdp_train.append(gdp['GDP_Finland'].iloc[4])\n",
    "        if train['country_Norway'][i] == 1:\n",
    "            gdp_train.append(gdp['GDP_Norway'].iloc[4])\n",
    "        if train['country_Sweden'][i] == 1:\n",
    "            gdp_train.append(gdp['GDP_Sweden'].iloc[4])\n",
    "            \n",
    "train['GDP'] = gdp_train                        "
   ]
  },
  {
   "cell_type": "code",
   "execution_count": 126,
   "metadata": {},
   "outputs": [
    {
     "data": {
      "text/html": [
       "<div>\n",
       "<style scoped>\n",
       "    .dataframe tbody tr th:only-of-type {\n",
       "        vertical-align: middle;\n",
       "    }\n",
       "\n",
       "    .dataframe tbody tr th {\n",
       "        vertical-align: top;\n",
       "    }\n",
       "\n",
       "    .dataframe thead th {\n",
       "        text-align: right;\n",
       "    }\n",
       "</style>\n",
       "<table border=\"1\" class=\"dataframe\">\n",
       "  <thead>\n",
       "    <tr style=\"text-align: right;\">\n",
       "      <th></th>\n",
       "      <th>weekday</th>\n",
       "      <th>holiday</th>\n",
       "      <th>year</th>\n",
       "      <th>month</th>\n",
       "      <th>day</th>\n",
       "      <th>country_Finland</th>\n",
       "      <th>country_Norway</th>\n",
       "      <th>country_Sweden</th>\n",
       "      <th>store_KaggleMart</th>\n",
       "      <th>store_KaggleRama</th>\n",
       "      <th>product_Kaggle Hat</th>\n",
       "      <th>product_Kaggle Mug</th>\n",
       "      <th>product_Kaggle Sticker</th>\n",
       "      <th>GDP</th>\n",
       "    </tr>\n",
       "    <tr>\n",
       "      <th>row_id</th>\n",
       "      <th></th>\n",
       "      <th></th>\n",
       "      <th></th>\n",
       "      <th></th>\n",
       "      <th></th>\n",
       "      <th></th>\n",
       "      <th></th>\n",
       "      <th></th>\n",
       "      <th></th>\n",
       "      <th></th>\n",
       "      <th></th>\n",
       "      <th></th>\n",
       "      <th></th>\n",
       "      <th></th>\n",
       "    </tr>\n",
       "  </thead>\n",
       "  <tbody>\n",
       "    <tr>\n",
       "      <th>0</th>\n",
       "      <td>3</td>\n",
       "      <td>1</td>\n",
       "      <td>2015</td>\n",
       "      <td>1</td>\n",
       "      <td>1</td>\n",
       "      <td>1</td>\n",
       "      <td>0</td>\n",
       "      <td>0</td>\n",
       "      <td>1</td>\n",
       "      <td>0</td>\n",
       "      <td>0</td>\n",
       "      <td>1</td>\n",
       "      <td>0</td>\n",
       "      <td>234.44</td>\n",
       "    </tr>\n",
       "    <tr>\n",
       "      <th>1</th>\n",
       "      <td>3</td>\n",
       "      <td>1</td>\n",
       "      <td>2015</td>\n",
       "      <td>1</td>\n",
       "      <td>1</td>\n",
       "      <td>1</td>\n",
       "      <td>0</td>\n",
       "      <td>0</td>\n",
       "      <td>1</td>\n",
       "      <td>0</td>\n",
       "      <td>1</td>\n",
       "      <td>0</td>\n",
       "      <td>0</td>\n",
       "      <td>234.44</td>\n",
       "    </tr>\n",
       "    <tr>\n",
       "      <th>2</th>\n",
       "      <td>3</td>\n",
       "      <td>1</td>\n",
       "      <td>2015</td>\n",
       "      <td>1</td>\n",
       "      <td>1</td>\n",
       "      <td>1</td>\n",
       "      <td>0</td>\n",
       "      <td>0</td>\n",
       "      <td>1</td>\n",
       "      <td>0</td>\n",
       "      <td>0</td>\n",
       "      <td>0</td>\n",
       "      <td>1</td>\n",
       "      <td>234.44</td>\n",
       "    </tr>\n",
       "    <tr>\n",
       "      <th>3</th>\n",
       "      <td>3</td>\n",
       "      <td>1</td>\n",
       "      <td>2015</td>\n",
       "      <td>1</td>\n",
       "      <td>1</td>\n",
       "      <td>1</td>\n",
       "      <td>0</td>\n",
       "      <td>0</td>\n",
       "      <td>0</td>\n",
       "      <td>1</td>\n",
       "      <td>0</td>\n",
       "      <td>1</td>\n",
       "      <td>0</td>\n",
       "      <td>234.44</td>\n",
       "    </tr>\n",
       "    <tr>\n",
       "      <th>4</th>\n",
       "      <td>3</td>\n",
       "      <td>1</td>\n",
       "      <td>2015</td>\n",
       "      <td>1</td>\n",
       "      <td>1</td>\n",
       "      <td>1</td>\n",
       "      <td>0</td>\n",
       "      <td>0</td>\n",
       "      <td>0</td>\n",
       "      <td>1</td>\n",
       "      <td>1</td>\n",
       "      <td>0</td>\n",
       "      <td>0</td>\n",
       "      <td>234.44</td>\n",
       "    </tr>\n",
       "  </tbody>\n",
       "</table>\n",
       "</div>"
      ],
      "text/plain": [
       "        weekday  holiday  year  month  day  country_Finland  country_Norway  \\\n",
       "row_id                                                                        \n",
       "0             3        1  2015      1    1                1               0   \n",
       "1             3        1  2015      1    1                1               0   \n",
       "2             3        1  2015      1    1                1               0   \n",
       "3             3        1  2015      1    1                1               0   \n",
       "4             3        1  2015      1    1                1               0   \n",
       "\n",
       "        country_Sweden  store_KaggleMart  store_KaggleRama  \\\n",
       "row_id                                                       \n",
       "0                    0                 1                 0   \n",
       "1                    0                 1                 0   \n",
       "2                    0                 1                 0   \n",
       "3                    0                 0                 1   \n",
       "4                    0                 0                 1   \n",
       "\n",
       "        product_Kaggle Hat  product_Kaggle Mug  product_Kaggle Sticker     GDP  \n",
       "row_id                                                                          \n",
       "0                        0                   1                       0  234.44  \n",
       "1                        1                   0                       0  234.44  \n",
       "2                        0                   0                       1  234.44  \n",
       "3                        0                   1                       0  234.44  \n",
       "4                        1                   0                       0  234.44  "
      ]
     },
     "execution_count": 126,
     "metadata": {},
     "output_type": "execute_result"
    }
   ],
   "source": [
    "train.head()"
   ]
  },
  {
   "cell_type": "code",
   "execution_count": 127,
   "metadata": {},
   "outputs": [],
   "source": [
    "test = test.reset_index()\n",
    "gdp_test = []\n",
    "for i in range(len(test)):\n",
    "    if train['country_Finland'][i] == 1:\n",
    "        gdp_test.append(gdp['GDP_Finland'].iloc[4])\n",
    "    if train['country_Norway'][i] == 1:\n",
    "        gdp_test.append(gdp['GDP_Norway'].iloc[4])\n",
    "    if train['country_Sweden'][i] == 1:\n",
    "        gdp_test.append(gdp['GDP_Sweden'].iloc[4])\n",
    "        \n",
    "test['GDP'] = gdp_test\n",
    "test = test.set_index('row_id')"
   ]
  },
  {
   "cell_type": "code",
   "execution_count": 128,
   "metadata": {},
   "outputs": [
    {
     "data": {
      "text/html": [
       "<div>\n",
       "<style scoped>\n",
       "    .dataframe tbody tr th:only-of-type {\n",
       "        vertical-align: middle;\n",
       "    }\n",
       "\n",
       "    .dataframe tbody tr th {\n",
       "        vertical-align: top;\n",
       "    }\n",
       "\n",
       "    .dataframe thead th {\n",
       "        text-align: right;\n",
       "    }\n",
       "</style>\n",
       "<table border=\"1\" class=\"dataframe\">\n",
       "  <thead>\n",
       "    <tr style=\"text-align: right;\">\n",
       "      <th></th>\n",
       "      <th>weekday</th>\n",
       "      <th>holiday</th>\n",
       "      <th>year</th>\n",
       "      <th>month</th>\n",
       "      <th>day</th>\n",
       "      <th>country_Finland</th>\n",
       "      <th>country_Norway</th>\n",
       "      <th>country_Sweden</th>\n",
       "      <th>store_KaggleMart</th>\n",
       "      <th>store_KaggleRama</th>\n",
       "      <th>product_Kaggle Hat</th>\n",
       "      <th>product_Kaggle Mug</th>\n",
       "      <th>product_Kaggle Sticker</th>\n",
       "      <th>GDP</th>\n",
       "    </tr>\n",
       "    <tr>\n",
       "      <th>row_id</th>\n",
       "      <th></th>\n",
       "      <th></th>\n",
       "      <th></th>\n",
       "      <th></th>\n",
       "      <th></th>\n",
       "      <th></th>\n",
       "      <th></th>\n",
       "      <th></th>\n",
       "      <th></th>\n",
       "      <th></th>\n",
       "      <th></th>\n",
       "      <th></th>\n",
       "      <th></th>\n",
       "      <th></th>\n",
       "    </tr>\n",
       "  </thead>\n",
       "  <tbody>\n",
       "    <tr>\n",
       "      <th>26298</th>\n",
       "      <td>1</td>\n",
       "      <td>1</td>\n",
       "      <td>2019</td>\n",
       "      <td>1</td>\n",
       "      <td>1</td>\n",
       "      <td>1</td>\n",
       "      <td>0</td>\n",
       "      <td>0</td>\n",
       "      <td>1</td>\n",
       "      <td>0</td>\n",
       "      <td>0</td>\n",
       "      <td>1</td>\n",
       "      <td>0</td>\n",
       "      <td>268.782</td>\n",
       "    </tr>\n",
       "    <tr>\n",
       "      <th>26299</th>\n",
       "      <td>1</td>\n",
       "      <td>1</td>\n",
       "      <td>2019</td>\n",
       "      <td>1</td>\n",
       "      <td>1</td>\n",
       "      <td>1</td>\n",
       "      <td>0</td>\n",
       "      <td>0</td>\n",
       "      <td>1</td>\n",
       "      <td>0</td>\n",
       "      <td>1</td>\n",
       "      <td>0</td>\n",
       "      <td>0</td>\n",
       "      <td>268.782</td>\n",
       "    </tr>\n",
       "    <tr>\n",
       "      <th>26300</th>\n",
       "      <td>1</td>\n",
       "      <td>1</td>\n",
       "      <td>2019</td>\n",
       "      <td>1</td>\n",
       "      <td>1</td>\n",
       "      <td>1</td>\n",
       "      <td>0</td>\n",
       "      <td>0</td>\n",
       "      <td>1</td>\n",
       "      <td>0</td>\n",
       "      <td>0</td>\n",
       "      <td>0</td>\n",
       "      <td>1</td>\n",
       "      <td>268.782</td>\n",
       "    </tr>\n",
       "    <tr>\n",
       "      <th>26301</th>\n",
       "      <td>1</td>\n",
       "      <td>1</td>\n",
       "      <td>2019</td>\n",
       "      <td>1</td>\n",
       "      <td>1</td>\n",
       "      <td>1</td>\n",
       "      <td>0</td>\n",
       "      <td>0</td>\n",
       "      <td>0</td>\n",
       "      <td>1</td>\n",
       "      <td>0</td>\n",
       "      <td>1</td>\n",
       "      <td>0</td>\n",
       "      <td>268.782</td>\n",
       "    </tr>\n",
       "    <tr>\n",
       "      <th>26302</th>\n",
       "      <td>1</td>\n",
       "      <td>1</td>\n",
       "      <td>2019</td>\n",
       "      <td>1</td>\n",
       "      <td>1</td>\n",
       "      <td>1</td>\n",
       "      <td>0</td>\n",
       "      <td>0</td>\n",
       "      <td>0</td>\n",
       "      <td>1</td>\n",
       "      <td>1</td>\n",
       "      <td>0</td>\n",
       "      <td>0</td>\n",
       "      <td>268.782</td>\n",
       "    </tr>\n",
       "  </tbody>\n",
       "</table>\n",
       "</div>"
      ],
      "text/plain": [
       "        weekday  holiday  year  month  day  country_Finland  country_Norway  \\\n",
       "row_id                                                                        \n",
       "26298         1        1  2019      1    1                1               0   \n",
       "26299         1        1  2019      1    1                1               0   \n",
       "26300         1        1  2019      1    1                1               0   \n",
       "26301         1        1  2019      1    1                1               0   \n",
       "26302         1        1  2019      1    1                1               0   \n",
       "\n",
       "        country_Sweden  store_KaggleMart  store_KaggleRama  \\\n",
       "row_id                                                       \n",
       "26298                0                 1                 0   \n",
       "26299                0                 1                 0   \n",
       "26300                0                 1                 0   \n",
       "26301                0                 0                 1   \n",
       "26302                0                 0                 1   \n",
       "\n",
       "        product_Kaggle Hat  product_Kaggle Mug  product_Kaggle Sticker  \\\n",
       "row_id                                                                   \n",
       "26298                    0                   1                       0   \n",
       "26299                    1                   0                       0   \n",
       "26300                    0                   0                       1   \n",
       "26301                    0                   1                       0   \n",
       "26302                    1                   0                       0   \n",
       "\n",
       "            GDP  \n",
       "row_id           \n",
       "26298   268.782  \n",
       "26299   268.782  \n",
       "26300   268.782  \n",
       "26301   268.782  \n",
       "26302   268.782  "
      ]
     },
     "execution_count": 128,
     "metadata": {},
     "output_type": "execute_result"
    }
   ],
   "source": [
    "test.head()"
   ]
  },
  {
   "cell_type": "code",
   "execution_count": 129,
   "metadata": {},
   "outputs": [],
   "source": [
    "def smape(A, F):\n",
    "    return 100/len(A) * np.sum(2 * np.abs(F - A) / (np.abs(A) + np.abs(F)))"
   ]
  },
  {
   "cell_type": "code",
   "execution_count": 130,
   "metadata": {},
   "outputs": [],
   "source": [
    "from keras import backend as K\n",
    "def tf_smape(y_true, y_pred):\n",
    "    yt = tf.cast(y_true,tf.float64)\n",
    "    yp = tf.cast(y_pred,tf.float64)\n",
    "    return tf.abs(yt - yp) / (yt + tf.abs(yp)) * 200\n",
    "    \n",
    "    "
   ]
  },
  {
   "cell_type": "code",
   "execution_count": 131,
   "metadata": {},
   "outputs": [],
   "source": [
    "def get_params(df):\n",
    "    mini = min(df['mean_test_score'])\n",
    "    for row in range(len(df)):\n",
    "        if df.iloc[row]['mean_test_score'] == mini:\n",
    "            return df.iloc[row]['params']"
   ]
  },
  {
   "cell_type": "markdown",
   "metadata": {},
   "source": [
    "**Random Forest Model**"
   ]
  },
  {
   "cell_type": "code",
   "execution_count": 68,
   "metadata": {},
   "outputs": [],
   "source": [
    "from sklearn.ensemble import RandomForestRegressor"
   ]
  },
  {
   "cell_type": "code",
   "execution_count": 70,
   "metadata": {},
   "outputs": [],
   "source": [
    "scorer = make_scorer(smape, greater_is_better=True)\n",
    "\n",
    "clf = RandomizedSearchCV(RandomForestRegressor(),{\n",
    "    'n_estimators' : [100,1000,10000],\n",
    "    'min_samples_split' : [7,8],\n",
    "    'min_samples_leaf' : [3,4], \n",
    "    'max_depth' : [None,3,4,5]\n",
    "}, scoring = scorer,return_train_score=False)\n",
    "\n",
    "clf.fit(train,y_train)\n",
    "\n",
    "new_df = pd.DataFrame(clf.cv_results_)"
   ]
  },
  {
   "cell_type": "code",
   "execution_count": 71,
   "metadata": {},
   "outputs": [
    {
     "data": {
      "text/plain": [
       "6.981408789098713"
      ]
     },
     "execution_count": 71,
     "metadata": {},
     "output_type": "execute_result"
    }
   ],
   "source": [
    "min(new_df['mean_test_score'])"
   ]
  },
  {
   "cell_type": "code",
   "execution_count": 72,
   "metadata": {},
   "outputs": [
    {
     "data": {
      "text/plain": [
       "{'n_estimators': 10000,\n",
       " 'min_samples_split': 7,\n",
       " 'min_samples_leaf': 3,\n",
       " 'max_depth': None}"
      ]
     },
     "execution_count": 72,
     "metadata": {},
     "output_type": "execute_result"
    }
   ],
   "source": [
    "get_params(new_df)"
   ]
  },
  {
   "cell_type": "code",
   "execution_count": 107,
   "metadata": {},
   "outputs": [],
   "source": [
    "rf = RandomForestRegressor(n_estimators=10000,\n",
    "                          min_samples_split=7,\n",
    "                          min_samples_leaf=3)\n",
    "\n",
    "rf.fit(train,y_train)\n",
    "preds = rf.predict(test)"
   ]
  },
  {
   "cell_type": "code",
   "execution_count": 74,
   "metadata": {},
   "outputs": [
    {
     "data": {
      "text/plain": [
       "array([ 394.72695078,  546.68543234,  161.64736331, ...,  967.00402004,\n",
       "       1443.73043725,  386.69919149])"
      ]
     },
     "execution_count": 74,
     "metadata": {},
     "output_type": "execute_result"
    }
   ],
   "source": [
    "preds "
   ]
  },
  {
   "cell_type": "code",
   "execution_count": 75,
   "metadata": {},
   "outputs": [],
   "source": [
    "test = test.reset_index()\n",
    "submission = pd.DataFrame(columns=['row_id','num_sold'])\n",
    "submission['row_id'] = test['row_id']\n",
    "submission['num_sold'] = preds"
   ]
  },
  {
   "cell_type": "code",
   "execution_count": 76,
   "metadata": {},
   "outputs": [],
   "source": [
    "submission.to_csv('submission4.csv',index=False)"
   ]
  },
  {
   "cell_type": "markdown",
   "metadata": {},
   "source": [
    "**Regression Model**"
   ]
  },
  {
   "cell_type": "code",
   "execution_count": 76,
   "metadata": {},
   "outputs": [],
   "source": [
    "from sklearn.linear_model import LinearRegression\n",
    "from sklearn.linear_model import Ridge"
   ]
  },
  {
   "cell_type": "code",
   "execution_count": 73,
   "metadata": {},
   "outputs": [],
   "source": [
    "scorer = make_scorer(smape, greater_is_better=True)\n",
    "\n",
    "clf_reg = GridSearchCV(LinearRegression(),{\n",
    "    'fit_intercept' : [True,False]   \n",
    "}, scoring = scorer,return_train_score=False)\n",
    "\n",
    "clf_reg.fit(train,y_train)\n",
    "\n",
    "new_df_reg = pd.DataFrame(clf_reg.cv_results_)"
   ]
  },
  {
   "cell_type": "code",
   "execution_count": 74,
   "metadata": {},
   "outputs": [
    {
     "data": {
      "text/plain": [
       "32.58612197888383"
      ]
     },
     "execution_count": 74,
     "metadata": {},
     "output_type": "execute_result"
    }
   ],
   "source": [
    "min(new_df_reg['mean_test_score'])"
   ]
  },
  {
   "cell_type": "code",
   "execution_count": 75,
   "metadata": {},
   "outputs": [
    {
     "data": {
      "text/plain": [
       "{'fit_intercept': True}"
      ]
     },
     "execution_count": 75,
     "metadata": {},
     "output_type": "execute_result"
    }
   ],
   "source": [
    "get_params(new_df_reg)"
   ]
  },
  {
   "cell_type": "code",
   "execution_count": 82,
   "metadata": {},
   "outputs": [],
   "source": [
    "scorer = make_scorer(smape, greater_is_better=True)\n",
    "\n",
    "clf_ridge = GridSearchCV(Ridge(),{\n",
    "    'alpha' : [1,1.5,2,2.5,3,3.5,4],\n",
    "    'fit_intercept' : [True,False],\n",
    "    'solver' : ['auto','svd','cholesky', 'lsqr', 'sparse_cg', 'sag', 'saga']\n",
    "}, scoring = scorer,return_train_score=False)\n",
    "\n",
    "clf_ridge.fit(train,y_train)\n",
    "\n",
    "new_df_ridge = pd.DataFrame(clf_ridge.cv_results_)"
   ]
  },
  {
   "cell_type": "code",
   "execution_count": 83,
   "metadata": {},
   "outputs": [
    {
     "data": {
      "text/plain": [
       "26.142898378202016"
      ]
     },
     "execution_count": 83,
     "metadata": {},
     "output_type": "execute_result"
    }
   ],
   "source": [
    "min(new_df_ridge['mean_test_score'])"
   ]
  },
  {
   "cell_type": "code",
   "execution_count": 84,
   "metadata": {},
   "outputs": [
    {
     "data": {
      "text/plain": [
       "{'alpha': 2.5, 'fit_intercept': False, 'solver': 'sag'}"
      ]
     },
     "execution_count": 84,
     "metadata": {},
     "output_type": "execute_result"
    }
   ],
   "source": [
    "get_params(new_df_ridge)"
   ]
  },
  {
   "cell_type": "markdown",
   "metadata": {},
   "source": [
    "**Boosting Models**"
   ]
  },
  {
   "cell_type": "code",
   "execution_count": 64,
   "metadata": {},
   "outputs": [],
   "source": [
    "from catboost import CatBoostRegressor\n",
    "import xgboost as xgb\n",
    "from sklearn.ensemble import AdaBoostRegressor\n",
    "from lightgbm import LGBMRegressor"
   ]
  },
  {
   "cell_type": "code",
   "execution_count": 87,
   "metadata": {},
   "outputs": [],
   "source": [
    "scorer = make_scorer(smape, greater_is_better=True)\n",
    "\n",
    "clf_ada = RandomizedSearchCV(AdaBoostRegressor(n_estimators=100),{\n",
    "    'learning_rate' : [1,2,3,4],\n",
    "    'loss' : ['linear', 'square', 'exponential']\n",
    "}, scoring = scorer,return_train_score=False)\n",
    "\n",
    "clf_ada.fit(train,y_train)\n",
    "\n",
    "new_df_ada = pd.DataFrame(clf_ada.cv_results_)"
   ]
  },
  {
   "cell_type": "code",
   "execution_count": 88,
   "metadata": {},
   "outputs": [
    {
     "data": {
      "text/plain": [
       "61.57088584557596"
      ]
     },
     "execution_count": 88,
     "metadata": {},
     "output_type": "execute_result"
    }
   ],
   "source": [
    "min(new_df_ada['mean_test_score'])"
   ]
  },
  {
   "cell_type": "code",
   "execution_count": 89,
   "metadata": {},
   "outputs": [
    {
     "data": {
      "text/plain": [
       "{'loss': 'linear', 'learning_rate': 1}"
      ]
     },
     "execution_count": 89,
     "metadata": {},
     "output_type": "execute_result"
    }
   ],
   "source": [
    "get_params(new_df_ada)"
   ]
  },
  {
   "cell_type": "code",
   "execution_count": 97,
   "metadata": {},
   "outputs": [],
   "source": [
    "scorer = make_scorer(smape, greater_is_better=True)\n",
    "\n",
    "clf_cat = RandomizedSearchCV(CatBoostRegressor(iterations=1000,verbose=0),{\n",
    "    'depth' : [2,3,4,5],\n",
    "    'learning_rate' : [0.01,0.1,0.2,0.5],\n",
    "    'random_strength' : [1.0,2.0,3.0,4.0],\n",
    "    'min_data_in_leaf' : [2,3,4,5]\n",
    "    \n",
    "}, scoring = scorer,return_train_score=False)\n",
    "\n",
    "clf_cat.fit(train,y_train,verbose=None)\n",
    "\n",
    "new_df_cat = pd.DataFrame(clf_cat.cv_results_)"
   ]
  },
  {
   "cell_type": "code",
   "execution_count": 98,
   "metadata": {},
   "outputs": [
    {
     "data": {
      "text/plain": [
       "7.266216869431174"
      ]
     },
     "execution_count": 98,
     "metadata": {},
     "output_type": "execute_result"
    }
   ],
   "source": [
    "min(new_df_cat['mean_test_score'])"
   ]
  },
  {
   "cell_type": "code",
   "execution_count": 99,
   "metadata": {},
   "outputs": [
    {
     "data": {
      "text/plain": [
       "{'random_strength': 4.0,\n",
       " 'min_data_in_leaf': 2,\n",
       " 'learning_rate': 0.1,\n",
       " 'depth': 5}"
      ]
     },
     "execution_count": 99,
     "metadata": {},
     "output_type": "execute_result"
    }
   ],
   "source": [
    "get_params(new_df_cat)"
   ]
  },
  {
   "cell_type": "code",
   "execution_count": 158,
   "metadata": {},
   "outputs": [],
   "source": [
    "preds = (np.sum(predictions, axis=0)) / len(predictions)"
   ]
  },
  {
   "cell_type": "code",
   "execution_count": 159,
   "metadata": {},
   "outputs": [
    {
     "data": {
      "text/plain": [
       "array([ 283.18718958,  454.87681835,  137.05661281, ...,  745.31918084,\n",
       "       1040.75736045,  384.0562636 ])"
      ]
     },
     "execution_count": 159,
     "metadata": {},
     "output_type": "execute_result"
    }
   ],
   "source": [
    "preds"
   ]
  },
  {
   "cell_type": "code",
   "execution_count": 160,
   "metadata": {},
   "outputs": [],
   "source": [
    "test = test.reset_index()\n",
    "submission = pd.DataFrame(columns=['row_id','num_sold'])\n",
    "submission['row_id'] = test['row_id']\n",
    "submission['num_sold'] = preds"
   ]
  },
  {
   "cell_type": "code",
   "execution_count": 161,
   "metadata": {},
   "outputs": [],
   "source": [
    "submission.to_csv('submission4.csv',index=False)"
   ]
  },
  {
   "cell_type": "code",
   "execution_count": 100,
   "metadata": {},
   "outputs": [],
   "source": [
    "scorer = make_scorer(smape, greater_is_better=True)\n",
    "\n",
    "clf_xgb = RandomizedSearchCV(xgb.XGBRegressor(n_estimators=1000,verbosity=0),{\n",
    "    'learning_rate' : [1,1.5,2],\n",
    "    'gamma' : [0.5,1,1.5],\n",
    "    'reg_lambda' : [0.5,1,1.5]\n",
    "    \n",
    "}, scoring = scorer,return_train_score=False)\n",
    "\n",
    "clf_xgb.fit(train,y_train,verbose=None)\n",
    "\n",
    "new_df_xgb = pd.DataFrame(clf_xgb.cv_results_)"
   ]
  },
  {
   "cell_type": "code",
   "execution_count": 101,
   "metadata": {},
   "outputs": [
    {
     "data": {
      "text/plain": [
       "12.54735549158194"
      ]
     },
     "execution_count": 101,
     "metadata": {},
     "output_type": "execute_result"
    }
   ],
   "source": [
    "min(new_df_xgb['mean_test_score'])"
   ]
  },
  {
   "cell_type": "code",
   "execution_count": 102,
   "metadata": {},
   "outputs": [
    {
     "data": {
      "text/plain": [
       "{'reg_lambda': 0.5, 'learning_rate': 1, 'gamma': 1}"
      ]
     },
     "execution_count": 102,
     "metadata": {},
     "output_type": "execute_result"
    }
   ],
   "source": [
    "get_params(new_df_xgb)"
   ]
  },
  {
   "cell_type": "code",
   "execution_count": 54,
   "metadata": {},
   "outputs": [],
   "source": [
    "preds = (np.sum(predictions, axis=0)) / len(predictions)"
   ]
  },
  {
   "cell_type": "code",
   "execution_count": 56,
   "metadata": {},
   "outputs": [],
   "source": [
    "test = test.reset_index()\n",
    "submission = pd.DataFrame(columns=['row_id','num_sold'])\n",
    "submission['row_id'] = test['row_id']\n",
    "submission['num_sold'] = preds"
   ]
  },
  {
   "cell_type": "code",
   "execution_count": 57,
   "metadata": {},
   "outputs": [],
   "source": [
    "submission.to_csv('submission4.csv',index=False)"
   ]
  },
  {
   "cell_type": "code",
   "execution_count": 77,
   "metadata": {},
   "outputs": [],
   "source": [
    "scorer = make_scorer(smape, greater_is_better=True)\n",
    "\n",
    "clf_lgbm = RandomizedSearchCV(LGBMRegressor(random_state=0),{\n",
    "    \n",
    "    'n_estimators': [175,250,500,1000,2000],\n",
    "    'max_depth': [10,11,12],\n",
    "    'learning_rate': [0.05, 0.075, 0.1, 0.125, 0.15]\n",
    "}, scoring = scorer,return_train_score=False)\n",
    "\n",
    "clf_lgbm.fit(train,y_train,verbose=None)\n",
    "\n",
    "new_df_lgbm = pd.DataFrame(clf_lgbm.cv_results_)"
   ]
  },
  {
   "cell_type": "code",
   "execution_count": 78,
   "metadata": {},
   "outputs": [
    {
     "data": {
      "text/plain": [
       "6.596692447945225"
      ]
     },
     "execution_count": 78,
     "metadata": {},
     "output_type": "execute_result"
    }
   ],
   "source": [
    "min(new_df_lgbm['mean_test_score'])"
   ]
  },
  {
   "cell_type": "code",
   "execution_count": 79,
   "metadata": {},
   "outputs": [
    {
     "data": {
      "text/plain": [
       "{'n_estimators': 250, 'max_depth': 11, 'learning_rate': 0.125}"
      ]
     },
     "execution_count": 79,
     "metadata": {},
     "output_type": "execute_result"
    }
   ],
   "source": [
    "get_params(new_df_lgbm)"
   ]
  },
  {
   "cell_type": "code",
   "execution_count": null,
   "metadata": {},
   "outputs": [],
   "source": [
    "params0 = {'objective': 'regression', # Manual optimization\n",
    "           'force_row_wise': True,\n",
    "           'max_bin': 400, # need more bins than days in a year\n",
    "           'verbosity': -1,\n",
    "           'seed': 1,\n",
    "           'bagging_seed': 3,\n",
    "           'feature_fraction_seed': 2,\n",
    "           'learning_rate': 0.018,\n",
    "           'lambda_l1': 0,\n",
    "           'lambda_l2': 1e-2,\n",
    "           'num_leaves': 18,\n",
    "           'feature_fraction': 0.710344827586207,\n",
    "           'bagging_fraction': 0.47931034482758617,\n",
    "           'bagging_freq': 3,\n",
    "           'min_child_samples': 20}"
   ]
  },
  {
   "cell_type": "code",
   "execution_count": 132,
   "metadata": {},
   "outputs": [],
   "source": [
    "lgbm_mod = LGBMRegressor(\n",
    "    objective = 'regression', # Manual optimization\n",
    "    force_row_wise = True,\n",
    "    max_bin = 400, # need more bins than days in a year\n",
    "    verbosity = -1,\n",
    "    seed = 1,\n",
    "    bagging_seed = 3,\n",
    "    feature_fraction_seed = 2,\n",
    "    learning_rate = 0.018,\n",
    "    lambda_l1 = 0,\n",
    "    lambda_l2 = 1e-2,\n",
    "    num_leaves = 18,\n",
    "    feature_fraction = 0.710344827586207,\n",
    "    bagging_fraction = 0.47931034482758617,\n",
    "    bagging_freq = 3,\n",
    "    min_child_samples = 20)\n",
    "\n",
    "lgbm_mod.fit(train,y_train)\n",
    "preds = lgbm_mod.predict(test)"
   ]
  },
  {
   "cell_type": "code",
   "execution_count": 133,
   "metadata": {},
   "outputs": [
    {
     "data": {
      "text/plain": [
       "array([255.96822032, 419.08231906, 170.8934609 , ..., 606.03723794,\n",
       "       979.88960798, 245.27842942])"
      ]
     },
     "execution_count": 133,
     "metadata": {},
     "output_type": "execute_result"
    }
   ],
   "source": [
    "preds"
   ]
  },
  {
   "cell_type": "code",
   "execution_count": 134,
   "metadata": {},
   "outputs": [],
   "source": [
    "test = test.reset_index()\n",
    "submission = pd.DataFrame(columns=['row_id','num_sold'])\n",
    "submission['row_id'] = test['row_id']\n",
    "submission['num_sold'] = preds"
   ]
  },
  {
   "cell_type": "code",
   "execution_count": 135,
   "metadata": {},
   "outputs": [],
   "source": [
    "submission.to_csv('submission4.csv',index=False)"
   ]
  },
  {
   "cell_type": "markdown",
   "metadata": {},
   "source": [
    "**Keras Model**"
   ]
  },
  {
   "cell_type": "code",
   "execution_count": 42,
   "metadata": {},
   "outputs": [],
   "source": [
    "import tensorflow as tf\n",
    "from tensorflow import keras\n",
    "from tensorflow.keras import layers"
   ]
  },
  {
   "cell_type": "code",
   "execution_count": 43,
   "metadata": {},
   "outputs": [
    {
     "data": {
      "text/plain": [
       "(26298, 14)"
      ]
     },
     "execution_count": 43,
     "metadata": {},
     "output_type": "execute_result"
    }
   ],
   "source": [
    "train.shape"
   ]
  },
  {
   "cell_type": "code",
   "execution_count": 44,
   "metadata": {},
   "outputs": [],
   "source": [
    "label_normalizer = tf.keras.layers.Normalization(axis=-1)\n",
    "feature_normalizer = layers.Normalization(input_shape=[14,], axis=None)"
   ]
  },
  {
   "cell_type": "code",
   "execution_count": 45,
   "metadata": {},
   "outputs": [],
   "source": [
    "feature_normalizer.adapt(train)\n",
    "label_normalizer.adapt(y_train)"
   ]
  },
  {
   "cell_type": "code",
   "execution_count": 80,
   "metadata": {},
   "outputs": [
    {
     "name": "stdout",
     "output_type": "stream",
     "text": [
      "Model: \"sequential_8\"\n",
      "_________________________________________________________________\n",
      " Layer (type)                Output Shape              Param #   \n",
      "=================================================================\n",
      " normalization_3 (Normalizat  (None, 14)               3         \n",
      " ion)                                                            \n",
      "                                                                 \n",
      " dense_19 (Dense)            (None, 14)                210       \n",
      "                                                                 \n",
      " dense_20 (Dense)            (None, 5)                 75        \n",
      "                                                                 \n",
      " dense_21 (Dense)            (None, 1)                 6         \n",
      "                                                                 \n",
      "=================================================================\n",
      "Total params: 294\n",
      "Trainable params: 291\n",
      "Non-trainable params: 3\n",
      "_________________________________________________________________\n"
     ]
    }
   ],
   "source": [
    "tf_model = tf.keras.Sequential([\n",
    "    feature_normalizer,\n",
    "    layers.Dense(14,activation='exponential'),\n",
    "    layers.Dense(5,activation='exponential'),\n",
    "    layers.Dense(1,activation='exponential')\n",
    "])\n",
    "\n",
    "tf_model.summary()"
   ]
  },
  {
   "cell_type": "code",
   "execution_count": 81,
   "metadata": {},
   "outputs": [],
   "source": [
    "tf_model.compile(\n",
    "    optimizer=tf.optimizers.Adamax(learning_rate=0.01),\n",
    "    loss=tf_smape)"
   ]
  },
  {
   "cell_type": "code",
   "execution_count": 83,
   "metadata": {},
   "outputs": [],
   "source": [
    "history = tf_model.fit(\n",
    "    train,\n",
    "    y_train,\n",
    "    epochs=5000,\n",
    "    # Suppress logging.\n",
    "    verbose=0,\n",
    "    # Calculate validation results on 20% of the training data.\n",
    "    validation_split = 0.2)"
   ]
  },
  {
   "cell_type": "code",
   "execution_count": 84,
   "metadata": {},
   "outputs": [
    {
     "data": {
      "text/html": [
       "<div>\n",
       "<style scoped>\n",
       "    .dataframe tbody tr th:only-of-type {\n",
       "        vertical-align: middle;\n",
       "    }\n",
       "\n",
       "    .dataframe tbody tr th {\n",
       "        vertical-align: top;\n",
       "    }\n",
       "\n",
       "    .dataframe thead th {\n",
       "        text-align: right;\n",
       "    }\n",
       "</style>\n",
       "<table border=\"1\" class=\"dataframe\">\n",
       "  <thead>\n",
       "    <tr style=\"text-align: right;\">\n",
       "      <th></th>\n",
       "      <th>loss</th>\n",
       "      <th>val_loss</th>\n",
       "      <th>epoch</th>\n",
       "    </tr>\n",
       "  </thead>\n",
       "  <tbody>\n",
       "    <tr>\n",
       "      <th>4995</th>\n",
       "      <td>NaN</td>\n",
       "      <td>NaN</td>\n",
       "      <td>4995</td>\n",
       "    </tr>\n",
       "    <tr>\n",
       "      <th>4996</th>\n",
       "      <td>NaN</td>\n",
       "      <td>NaN</td>\n",
       "      <td>4996</td>\n",
       "    </tr>\n",
       "    <tr>\n",
       "      <th>4997</th>\n",
       "      <td>NaN</td>\n",
       "      <td>NaN</td>\n",
       "      <td>4997</td>\n",
       "    </tr>\n",
       "    <tr>\n",
       "      <th>4998</th>\n",
       "      <td>NaN</td>\n",
       "      <td>NaN</td>\n",
       "      <td>4998</td>\n",
       "    </tr>\n",
       "    <tr>\n",
       "      <th>4999</th>\n",
       "      <td>NaN</td>\n",
       "      <td>NaN</td>\n",
       "      <td>4999</td>\n",
       "    </tr>\n",
       "  </tbody>\n",
       "</table>\n",
       "</div>"
      ],
      "text/plain": [
       "      loss  val_loss  epoch\n",
       "4995   NaN       NaN   4995\n",
       "4996   NaN       NaN   4996\n",
       "4997   NaN       NaN   4997\n",
       "4998   NaN       NaN   4998\n",
       "4999   NaN       NaN   4999"
      ]
     },
     "execution_count": 84,
     "metadata": {},
     "output_type": "execute_result"
    }
   ],
   "source": [
    "hist = pd.DataFrame(history.history)\n",
    "hist['epoch'] = history.epoch\n",
    "hist.tail()"
   ]
  },
  {
   "cell_type": "code",
   "execution_count": 40,
   "metadata": {},
   "outputs": [],
   "source": [
    "preds = tf_model.predict(test)"
   ]
  },
  {
   "cell_type": "code",
   "execution_count": 41,
   "metadata": {},
   "outputs": [],
   "source": [
    "test = test.reset_index()\n",
    "submission = pd.DataFrame(columns=['row_id','num_sold'])\n",
    "submission['row_id'] = test['row_id']\n",
    "submission['num_sold'] = preds"
   ]
  },
  {
   "cell_type": "code",
   "execution_count": 42,
   "metadata": {},
   "outputs": [],
   "source": [
    "submission.to_csv('submission4.csv',index=False)"
   ]
  },
  {
   "cell_type": "code",
   "execution_count": null,
   "metadata": {},
   "outputs": [],
   "source": []
  }
 ],
 "metadata": {
  "kernelspec": {
   "display_name": "Python 3",
   "language": "python",
   "name": "python3"
  },
  "language_info": {
   "codemirror_mode": {
    "name": "ipython",
    "version": 3
   },
   "file_extension": ".py",
   "mimetype": "text/x-python",
   "name": "python",
   "nbconvert_exporter": "python",
   "pygments_lexer": "ipython3",
   "version": "3.8.3"
  }
 },
 "nbformat": 4,
 "nbformat_minor": 4
}
